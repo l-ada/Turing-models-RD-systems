{
 "cells": [
  {
   "cell_type": "code",
   "execution_count": 1,
   "metadata": {},
   "outputs": [],
   "source": [
    "import sympy as sp\n",
    "from sympy.printing.latex import latex\n",
    "from IPython.display import display, Math\n",
    "# Define the symbols\n",
    "a, b, c, q, D, D1,D2 = sp.symbols('a b c q D D1 D2')\n",
    "# u, v= sp.symbols('u v')\n",
    "\n",
    "# Define u and v\n",
    "u = a\n",
    "v = b / a\n",
    "\n",
    "# Define R\n",
    "R = c - u - v"
   ]
  },
  {
   "cell_type": "code",
   "execution_count": 2,
   "metadata": {},
   "outputs": [
    {
     "data": {
      "text/latex": [
       "$\\displaystyle \\left[\\begin{matrix}- \\frac{D q^{2} \\left(c - \\frac{b}{a}\\right)}{- a + c - \\frac{b}{a}} + b - 1 & - \\frac{D a q^{2}}{- a + c - \\frac{b}{a}} + a^{2}\\\\- \\frac{D b q^{2}}{a \\left(- a + c - \\frac{b}{a}\\right)} - b & - \\frac{D q^{2} \\left(- a + c\\right)}{- a + c - \\frac{b}{a}} - a^{2}\\end{matrix}\\right]$"
      ],
      "text/plain": [
       "Matrix([\n",
       "[-D*q**2*(c - b/a)/(-a + c - b/a) + b - 1,        -D*a*q**2/(-a + c - b/a) + a**2],\n",
       "[        -D*b*q**2/(a*(-a + c - b/a)) - b, -D*q**2*(-a + c)/(-a + c - b/a) - a**2]])"
      ]
     },
     "metadata": {},
     "output_type": "display_data"
    },
    {
     "data": {
      "text/latex": [
       "$\\displaystyle \\frac{a \\left(- D^{2} c q^{4} + D q^{2} \\left(- a^{2} c + a + b c - c\\right) + a^{3} - a^{2} c + a b\\right)}{a^{2} - a c + b}$"
      ],
      "text/plain": [
       "a*(-D**2*c*q**4 + D*q**2*(-a**2*c + a + b*c - c) + a**3 - a**2*c + a*b)/(a**2 - a*c + b)"
      ]
     },
     "metadata": {},
     "output_type": "display_data"
    },
    {
     "data": {
      "text/latex": [
       "$\\displaystyle - \\frac{D^{2} a c}{a^{2} - a c + b}$"
      ],
      "text/plain": [
       "-D**2*a*c/(a**2 - a*c + b)"
      ]
     },
     "metadata": {},
     "output_type": "display_data"
    },
    {
     "name": "stdout",
     "output_type": "stream",
     "text": [
      "- \\frac{D^{2} a c}{a^{2} - a c + b}\n"
     ]
    },
    {
     "data": {
      "text/latex": [
       "$\\displaystyle \\frac{D^{2} c q^{4} + D a^{2} c q^{2} - D a q^{2} + D c q^{2} - a^{3} + a^{2} c}{D c q^{2} + a}$"
      ],
      "text/plain": [
       "(D**2*c*q**4 + D*a**2*c*q**2 - D*a*q**2 + D*c*q**2 - a**3 + a**2*c)/(D*c*q**2 + a)"
      ]
     },
     "metadata": {},
     "output_type": "display_data"
    },
    {
     "name": "stdout",
     "output_type": "stream",
     "text": [
      "(D**2*c*q**4 + D*a**2*c*q**2 - D*a*q**2 + D*c*q**2 - a**3 + a**2*c)/(D*c*q**2 + a)\n"
     ]
    }
   ],
   "source": [
    "\n",
    "\n",
    "# Define the matrix\n",
    "A_q = sp.Matrix([\n",
    "    [(b-1) - q**2 * (u + R)/R, a**2 - q**2 * u/R],\n",
    "    [(-b) - q**2 * v/R, (-a**2) - q**2 * (R + v)/R]\n",
    "])\n",
    "A = sp.Matrix([\n",
    "    [(b-1), a**2],\n",
    "    [(-b), (-a**2)]\n",
    "])\n",
    "D_m = D*sp.Matrix([\n",
    "    [(u + R)/R, u/R],\n",
    "    [v/R,(R + v)/R]\n",
    "])\n",
    "\n",
    "A_q = A-q**2 *D_m\n",
    "display((A_q))\n",
    "# A_q = A+D\n",
    "# Calculate the determinant\n",
    "det_A_q = A_q.det()\n",
    "# Expand and arrange by powers of q\n",
    "det_A_q_expanded = sp.expand(det_A_q)\n",
    "det_A_q_expanded_by_powers = sp.collect(det_A_q_expanded, q)\n",
    "det_A_q_expanded_by_powers\n",
    "# sp.simplify(det_A_q_expanded_by_powers)\n",
    "\n",
    "display(sp.simplify(det_A_q_expanded_by_powers))\n",
    "simplified = sp.simplify((det_A_q_expanded_by_powers.coeff(q,4)))\n",
    "numer, denom = sp.fraction(simplified)\n",
    "\n",
    "# Expand the numerator\n",
    "expanded_numer = sp.expand(numer)\n",
    "\n",
    "# Combine the expanded numerator with the original denominator\n",
    "expanded_fraction = (expanded_numer / denom)\n",
    "simplified = expanded_fraction\n",
    "display(simplified)\n",
    "latex = latex(simplified)\n",
    "print(latex)\n",
    "\n",
    "solution_b = sp.solve(det_A_q, b)[0]\n",
    "solution_b = sp.simplify(solution_b)\n",
    "display(solution_b)\n",
    "print(solution_b)\n"
   ]
  },
  {
   "cell_type": "code",
   "execution_count": 8,
   "metadata": {
    "scrolled": true
   },
   "outputs": [
    {
     "data": {
      "text/latex": [
       "$\\displaystyle \\left[\\begin{matrix}- \\frac{D q^{2} \\left(c - \\frac{b}{a}\\right)}{- a + c - \\frac{b}{a}} + b - 1 & - \\frac{D a q^{2}}{- a + c - \\frac{b}{a}} + a^{2}\\\\- \\frac{D b q^{2}}{a \\left(- a + c - \\frac{b}{a}\\right)} - b & - \\frac{D q^{2} \\left(- a + c\\right)}{- a + c - \\frac{b}{a}} - a^{2}\\end{matrix}\\right]$"
      ],
      "text/plain": [
       "Matrix([\n",
       "[-D*q**2*(c - b/a)/(-a + c - b/a) + b - 1,        -D*a*q**2/(-a + c - b/a) + a**2],\n",
       "[        -D*b*q**2/(a*(-a + c - b/a)) - b, -D*q**2*(-a + c)/(-a + c - b/a) - a**2]])"
      ]
     },
     "metadata": {},
     "output_type": "display_data"
    },
    {
     "data": {
      "text/latex": [
       "$\\displaystyle - \\frac{D^{2} a c q^{4}}{a^{2} - a c + b} + \\frac{a^{4}}{a^{2} - a c + b} - \\frac{a^{3} c}{a^{2} - a c + b} + \\frac{a^{2} b}{a^{2} - a c + b} + q^{2} \\left(- \\frac{D a^{3} c}{a^{2} - a c + b} + \\frac{D a^{2}}{a^{2} - a c + b} + \\frac{D a b c}{a^{2} - a c + b} - \\frac{D a c}{a^{2} - a c + b}\\right)$"
      ],
      "text/plain": [
       "-D**2*a*c*q**4/(a**2 - a*c + b) + a**4/(a**2 - a*c + b) - a**3*c/(a**2 - a*c + b) + a**2*b/(a**2 - a*c + b) + q**2*(-D*a**3*c/(a**2 - a*c + b) + D*a**2/(a**2 - a*c + b) + D*a*b*c/(a**2 - a*c + b) - D*a*c/(a**2 - a*c + b))"
      ]
     },
     "metadata": {},
     "output_type": "display_data"
    }
   ],
   "source": [
    "## determinant calculation and neutral curve for determinant\n",
    "\n",
    "A = sp.Matrix([\n",
    "    [(b-1), a**2],\n",
    "    [(-b), (-a**2)]\n",
    "])\n",
    "D1 = D\n",
    "D2 = D\n",
    "D_m = sp.Matrix([\n",
    "    [D1*(u + R)/R, D1*u/R],\n",
    "    [D2*v/R,D2*(R + v)/R]\n",
    "])\n",
    "\n",
    "A_q = A-q**2 *D_m\n",
    "display(A_q)\n",
    "\n",
    "det_A_q = A_q.det()\n",
    "det_A_q_expanded =sp.collect( sp.expand(det_A_q), q)\n",
    "\n",
    "display(det_A_q_expanded)\n",
    "# det_A_q_expanded_by_powers = sp.collect(det_A_q_expanded, q)\n",
    "# # print(det_A_q_expanded_by_powers)\n",
    "# # l = sp.parsing.sympy_parser.parse_expr(det_A_q_expanded_by_powers)\n",
    "# # latex(l)\n",
    "# R_times_det = R*det_A_q_expanded\n",
    "\n",
    "# neutral_curve_det = sp.solve(det_A_q,b)[0]\n",
    "# print(neutral_curve_det)\n",
    "# # neutral_curve_det = sp.collect(sp.expand(L*neutral_curve_det),L)\n",
    "# display(neutral_curve_det)\n",
    "# display(partial)\n",
    "# display(sp.factor(det_prime,q))\n",
    "# display(sp.solve(det_prime,q**2)[0])\n",
    "# minimum = (D**2*c**2*q**4 + 2*D*a*c*q**2 + 2*a**3*c - a**2*c**2 - a**2 + a*c)/(D*c*q**2 + a)**2\n"
   ]
  },
  {
   "cell_type": "code",
   "execution_count": 9,
   "metadata": {},
   "outputs": [
    {
     "data": {
      "text/latex": [
       "$\\displaystyle - \\frac{D q^{2} \\left(- a + c\\right)}{- a + c - \\frac{b}{a}} - \\frac{D q^{2} \\left(c - \\frac{b}{a}\\right)}{- a + c - \\frac{b}{a}} - a^{2} + b - 1$"
      ],
      "text/plain": [
       "-D*q**2*(-a + c)/(-a + c - b/a) - D*q**2*(c - b/a)/(-a + c - b/a) - a**2 + b - 1"
      ]
     },
     "metadata": {},
     "output_type": "display_data"
    },
    {
     "data": {
      "text/latex": [
       "$\\displaystyle \\frac{- D a^{2} q^{2} + 2 D a c q^{2} - D b q^{2} - a^{4} + a^{3} c - a^{2} - a b c + a c + b^{2} - b}{a^{2} - a c + b}$"
      ],
      "text/plain": [
       "(-D*a**2*q**2 + 2*D*a*c*q**2 - D*b*q**2 - a**4 + a**3*c - a**2 - a*b*c + a*c + b**2 - b)/(a**2 - a*c + b)"
      ]
     },
     "metadata": {},
     "output_type": "display_data"
    },
    {
     "data": {
      "text/latex": [
       "$\\displaystyle D a^{2} q^{2} - 2 D a c q^{2} + a^{4} - a^{3} c + a^{2} - a c - b^{2} + b \\left(D q^{2} + a c + 1\\right)$"
      ],
      "text/plain": [
       "D*a**2*q**2 - 2*D*a*c*q**2 + a**4 - a**3*c + a**2 - a*c - b**2 + b*(D*q**2 + a*c + 1)"
      ]
     },
     "metadata": {},
     "output_type": "display_data"
    },
    {
     "data": {
      "text/latex": [
       "$\\displaystyle \\frac{D q^{2}}{2} + \\frac{a c}{2} + \\frac{\\sqrt{D^{2} q^{4} + 4 D a^{2} q^{2} - 6 D a c q^{2} + 2 D q^{2} + 4 a^{4} - 4 a^{3} c + a^{2} c^{2} + 4 a^{2} - 2 a c + 1}}{2} + \\frac{1}{2}$"
      ],
      "text/plain": [
       "D*q**2/2 + a*c/2 + sqrt(D**2*q**4 + 4*D*a**2*q**2 - 6*D*a*c*q**2 + 2*D*q**2 + 4*a**4 - 4*a**3*c + a**2*c**2 + 4*a**2 - 2*a*c + 1)/2 + 1/2"
      ]
     },
     "metadata": {},
     "output_type": "display_data"
    }
   ],
   "source": [
    "tr_A_q = A_q.trace()\n",
    "display(tr_A_q)\n",
    "display(sp.simplify(sp.expand(tr_A_q)))\n",
    "tr_A_q_exp = sp.collect(sp.simplify(sp.expand(R*tr_A_q*a)),b)\n",
    "# print(tr_A_q_exp)\n",
    "display(tr_A_q_exp)\n",
    "neutral_curve_trace = sp.solve(tr_A_q_exp,b)[1]\n",
    "display(neutral_curve_trace)\n"
   ]
  },
  {
   "cell_type": "markdown",
   "metadata": {},
   "source": [
    "Plotting the neutral curve for determinant\n"
   ]
  },
  {
   "cell_type": "code",
   "execution_count": 5,
   "metadata": {
    "scrolled": true
   },
   "outputs": [
    {
     "data": {
      "application/vnd.jupyter.widget-view+json": {
       "model_id": "2e0840c125944603a7b713c0f0633b1c",
       "version_major": 2,
       "version_minor": 0
      },
      "text/plain": [
       "interactive(children=(FloatSlider(value=1.0, description='D1', max=10.0, min=0.1), FloatSlider(value=1.0, desc…"
      ]
     },
     "metadata": {},
     "output_type": "display_data"
    },
    {
     "data": {
      "text/plain": [
       "<function __main__.plot_neutral_curve(D1, D2, c, a)>"
      ]
     },
     "execution_count": 5,
     "metadata": {},
     "output_type": "execute_result"
    }
   ],
   "source": [
    " \n",
    "import numpy as np\n",
    "import matplotlib.pyplot as plt\n",
    "from ipywidgets import interact, FloatSlider\n",
    "import ipywidgets as widgets\n",
    "\n",
    "def neutral_curve_tr_positive(D1,D2,c,a,q):\n",
    "    return D1*q**2/2 + a*c/2 + np.sqrt(D1**2*q**4 - 2*D1*a*c*q**2 + 2*D1*q**2 + 4*D2*a**2*q**2\\\n",
    "     - 4*D2*a*c*q**2 + 4*a**4 - 4*a**3*c + a**2*c**2 + 4*a**2 - 2*a*c + 1)/2 + 1/2\n",
    "def neutral_curve_tr_negative(D1,D2,c,a,q):\n",
    "    return D1*q**2/2 + a*c/2 - np.sqrt(D1**2*q**4 - 2*D1*a*c*q**2 + 2*D1*q**2 + 4*D2*a**2*q**2\\\n",
    "     - 4*D2*a*c*q**2 + 4*a**4 - 4*a**3*c + a**2*c**2 + 4*a**2 - 2*a*c + 1)/2 + 1/2\n",
    "    \n",
    "def neutral_curve_det(D1, D2, c, a, q):\n",
    "    \"\"\"Compute the neutral curve b(q).\"\"\"\n",
    "    numerator = D1*D2*c*q**4 + D1*a**2*c*q**2 - D2*a*q**2 + D2*c*q**2 - a**3 + a**2*c\n",
    "    denominator = 2*D1*a*q**2 - 2*D2*a*q**2 + D2*c*q**2 + a\n",
    "    return numerator / denominator\n",
    "\n",
    "def plot_neutral_curve(D1, D2, c, a):\n",
    "    \"\"\"Plot the neutral curve b(q) interactively.\"\"\"\n",
    "    q = np.linspace(0, 10, 4000)  # Avoid q=0 to prevent division by zero\n",
    "    b = neutral_curve_det(D1, D2, c, a, q)\n",
    "    b_trplus=neutral_curve_tr_positive(D1,D2,c,a,q)\n",
    "    b_trminus=neutral_curve_tr_negative(D1,D2,c,a,q)\n",
    "    plt.figure(figsize=(10, 6))\n",
    "    plt.plot(q, b, label=r'$b(q)$')\n",
    "    plt.plot(q,b_trplus, label=r'$trace curve plus$')\n",
    "    plt.plot(q,b_trminus, label=r'$trace curve_minus$')\n",
    "    plt.title('Neutral Curve b(q)')\n",
    "    plt.xlabel(r'$q$')\n",
    "    plt.ylabel(r'$b(q)$')\n",
    "    plt.grid(True)\n",
    "    plt.legend()\n",
    "    plt.ylim(-10, 40)  # Adjust the y-axis limits as needed\n",
    "    plt.show()\n",
    "\n",
    "# Define sliders for the parameters\n",
    "interact(\n",
    "    plot_neutral_curve,\n",
    "    D1=FloatSlider(min=0.1, max=10.0, step=0.1, value=1.0, description='D1'),\n",
    "    D2=FloatSlider(min=0.1, max=300.0, step=0.1, value=1.0, description='D2'),\n",
    "    c=FloatSlider(min=0.1, max=20.0, step=0.1, value=10.0, description='c'),\n",
    "    a=FloatSlider(min=0.1, max=10.0, step=0.1, value=1.0, description='a')\n",
    ")\n"
   ]
  },
  {
   "cell_type": "code",
   "execution_count": 7,
   "metadata": {
    "scrolled": false
   },
   "outputs": [
    {
     "data": {
      "application/vnd.jupyter.widget-view+json": {
       "model_id": "76aa1d3af3b04f93af7ecfac243b718e",
       "version_major": 2,
       "version_minor": 0
      },
      "text/plain": [
       "interactive(children=(FloatSlider(value=3.0, description='D1', max=30.0, min=0.1), FloatSlider(value=3.0, desc…"
      ]
     },
     "metadata": {},
     "output_type": "display_data"
    },
    {
     "data": {
      "text/plain": [
       "<function __main__.plot_f(D1, D2, c, a, line, save=False)>"
      ]
     },
     "execution_count": 7,
     "metadata": {},
     "output_type": "execute_result"
    }
   ],
   "source": [
    "import numpy as np\n",
    "import matplotlib.pyplot as plt\n",
    "from ipywidgets import interact, FloatSlider\n",
    "import os\n",
    "import datetime\n",
    "def save_plot(fig, folder=\"plots/neutral_curves\"):\n",
    "    \"\"\" Save the given plot figure with a filename that includes the current date and time. \"\"\"\n",
    "    if not os.path.exists(folder):\n",
    "        os.makedirs(folder)\n",
    "    current_time = datetime.datetime.now().strftime(\"%Y%m%d_%H%M%S\")\n",
    "    filename = os.path.join(folder, f\"plot_{current_time}.png\")\n",
    "    fig.savefig(filename)\n",
    "    print(f\"Plot saved as {filename}\")\n",
    "\n",
    "## this should be just trace? Maybe trace * R\n",
    "## This is tr(A_q * R). This doesn't affect the sign, nor the roots, so I'm just getting rid of denominator\n",
    "def trace_times_R(D1, D2, c, a, b, q):\n",
    "    \"\"\"Compute the function f(b, q).\"\"\"\n",
    "    return (-D1 * a * c * q**2 + D2 * a**2 * q**2 - D2 * a * c * q**2 +\\\n",
    "            a**4 - a**3 * c + a**2 - a * c - b**2 +\\\n",
    "            b * (D1 * q**2 + a * c + 1))\n",
    "## det A_q times R function. Doesn't affect roots, nor sign \n",
    "##(because R depends only on a,b,c and there are bounds on b), gets rid of the annoying denominator\n",
    "def det_times_R(D1,D2,c,a,b,q):\n",
    "    return D1*D2*c*q**4 + D1*a**2*c*q**2 - 2*D1*a*b*q**2 +\\\n",
    "        2*D2*a*b*q**2 - D2*a*q**2 - D2*b*c*q**2 + D2*c*q**2 - a**3 + a**2*c - a*b\n",
    "\n",
    "def neutral_curve_det(D1, D2, c, a, q):\n",
    "    \"\"\"Compute the neutral curve b(q).\"\"\"\n",
    "    numerator = D1*D2*c*q**4 + D1*a**2*c*q**2 - D2*a*q**2 + D2*c*q**2 - a**3 + a**2*c\n",
    "    denominator = 2*D1*a*q**2 - 2*D2*a*q**2 + D2*c*q**2 + a\n",
    "    return numerator / denominator\n",
    "def neutral_curve_det_no_interactions(D1, D2, c, a, q):\n",
    "    return a**2/(D2*q**2)+(D2+D1*a**2)/D2+D1*q**2\n",
    "\n",
    "\n",
    "def plot_f(D1, D2, c, a, line, save = False):\n",
    "    \"\"\"Plot the function f(b, q) as a 2D plot with color-coded values.\"\"\"\n",
    "    q_values = np.linspace(0.1, 0.35, 400)  # Avoid q=0 to prevent division by zero\n",
    "    ## maximum b allowed to be taken\n",
    "    max_b = c*a-a*a\n",
    "    b_values = np.linspace(0, 50, 400)\n",
    "    \n",
    "    Q, B = np.meshgrid(q_values, b_values)\n",
    "    F = trace_times_R(D1, D2, c, a, B, Q)\n",
    "    G = det_times_R(D1,D2,c,a,B,Q)\n",
    "    fig = plt.figure(figsize=(10, 6))\n",
    "    \n",
    "    # Mask values near zero to apply special coloring\n",
    "    masked_F = np.ma.masked_where(np.abs(F) < 0.1, F)\n",
    "    \n",
    "    plt.contourf(Q, B, masked_F, levels=50, cmap='viridis', extend='both')\n",
    "    \n",
    "    # Add colorbar\n",
    "    cbar = plt.colorbar(label=r'$f(b, q)$')\n",
    "    cbar.ax.set_ylabel(r'$f(b, q)$')\n",
    "    \n",
    "    # Set special color for near-zero values\n",
    "    plt.contour(Q, B, F, levels=[-0.01, 0.01], colors='red', linestyles='solid')\n",
    "    # plt.contour(Q, B, F, levels=[5,5.1], colors='black', linestyles='dotted')\n",
    "    plt.contour(Q, B, G, levels=[-0.01, 0.01], colors='blue', linestyles='solid')\n",
    "    # plt.contour(Q, B, G, levels=[1,1.1], colors='blue', linestyles='dotted')\n",
    "    plt.plot(q_values, 0*q_values+line)\n",
    "    plt.plot(q_values, 0*q_values+(1+a*(D1/D2)**2))\n",
    "    plt.plot(q_values, 0*q_values+max_b)\n",
    "\n",
    "    Dv=D2\n",
    "    Du=D1\n",
    "    # plt.plot(q_values, Du*q_values**2+1.+Du/Dv*a**2+a**2/(Dv*q_values**2))\n",
    "\n",
    "    \n",
    "    plt.title(r'Plot of $f(b, q)$')\n",
    "    plt.xlabel(r'$q$')\n",
    "    plt.ylabel(r'$b$')\n",
    "    plt.grid(True)\n",
    "    plt.suptitle(f\"a={a:.2f},c={c:.2f},D0={D1:.2f},D1={D2:.2f}, \\n line={line:.2f}\")\n",
    "    plt.text(1.05, 1.05, 'neutral curve det A_q', fontsize=14, color='blue', transform=plt.gca().transAxes, ha='center')\n",
    "    plt.text(1.05, 1.1, 'neutral curve tr A_q', fontsize=14, color='red', transform=plt.gca().transAxes, ha='center')\n",
    "\n",
    "    plt.show()\n",
    "    if save == True:\n",
    "        save_plot(fig)\n",
    "# Define sliders for the parameters\n",
    "interact(\n",
    "    plot_f,\n",
    "    D1=FloatSlider(min=0.1, max=30.0, step=0.1, value=3, description='D1'),\n",
    "    D2=FloatSlider(min=0.1, max=30.0, step=0.1, value=3, description='D2'),\n",
    "    c=FloatSlider(min=0.1, max=400.0, step=0.1, value=10.0, description='c'),\n",
    "    a=FloatSlider(min=0.1, max=10.0, step=0.1, value=4.9, description='a'),\n",
    "    line=FloatSlider(min=0.1, max=30.0, step=0.01, value=1.5, description='line b=const')\n",
    ")\n"
   ]
  },
  {
   "cell_type": "code",
   "execution_count": null,
   "metadata": {},
   "outputs": [],
   "source": []
  },
  {
   "cell_type": "code",
   "execution_count": 7,
   "metadata": {},
   "outputs": [
    {
     "data": {
      "image/png": "[encoded data removed]",
      "text/plain": [
       "<Figure size 720x432 with 2 Axes>"
      ]
     },
     "metadata": {
      "needs_background": "light"
     },
     "output_type": "display_data"
    },
    {
     "name": "stdout",
     "output_type": "stream",
     "text": [
      "Plot saved as plots/neutral_curves/plot_20240730_162436.png\n"
     ]
    }
   ],
   "source": [
    "D1,D2 = 0.01, 0.01\n",
    "\n",
    "c=10\n",
    "a=1/c\n",
    "line = 0.5\n",
    "plot_f(D1,D2,c,a, line ,save=True)"
   ]
  },
  {
   "cell_type": "code",
   "execution_count": 3,
   "metadata": {},
   "outputs": [],
   "source": [
    "\n",
    "def neutral_curve_det(D1, D2, c, a, q):\n",
    "    \"\"\"Compute the neutral curve b(q).\"\"\"\n",
    "    numerator = D1*D2*c*q**4 + D1*a**2*c*q**2 - D2*a*q**2 + D2*c*q**2 - a**3 + a**2*c\n",
    "    denominator = 2*D1*a*q**2 - 2*D2*a*q**2 + D2*c*q**2 + a\n",
    "    return numerator / denominator\n",
    "def neutral_curve_det_no_interactions(D1, D2, c, a, q):\n",
    "    return a**2/(D2*q**2)+(D2+D1*a**2)/D2+D1*q**2\n"
   ]
  },
  {
   "cell_type": "code",
   "execution_count": 4,
   "metadata": {},
   "outputs": [
    {
     "data": {
      "image/png": "[encoded data removed]",
      "text/plain": [
       "<Figure size 720x432 with 1 Axes>"
      ]
     },
     "metadata": {
      "needs_background": "light"
     },
     "output_type": "display_data"
    }
   ],
   "source": [
    "import numpy as np\n",
    "import matplotlib.pyplot as plt\n",
    "\n",
    "D1,D2 = 1,3\n",
    "\n",
    "a=1.9\n",
    "c=2\n",
    "# Define the range for x\n",
    "q = np.linspace(0.01, 4, 400)\n",
    "\n",
    "# Calculate the function values\n",
    "y_int = neutral_curve_det(D1,D2,c,a,q)\n",
    "y__no_int = neutral_curve_det_no_interactions(D1,D2,c,a,q)\n",
    "\n",
    "# Create the plot\n",
    "plt.figure(figsize=(10, 6))\n",
    "plt.plot(q, y_int, label='Interactions on')\n",
    "plt.plot(q, y__no_int, label='Interactions off')\n",
    "plt.title('Plot of Functions neutral curves of det')\n",
    "plt.suptitle(f\"Du={D1},Dv={D2},c={c},a={a}\")\n",
    "plt.xlabel('q')\n",
    "plt.ylabel('b')\n",
    "plt.ylim(0, 5)\n",
    "plt.legend()\n",
    "plt.grid(True)\n",
    "plt.show()\n",
    "# plt.savefig()\n"
   ]
  },
  {
   "cell_type": "code",
   "execution_count": null,
   "metadata": {},
   "outputs": [],
   "source": []
  },
  {
   "cell_type": "code",
   "execution_count": 7,
   "metadata": {},
   "outputs": [],
   "source": [
    "## critical b with different diffusion coefficients\n",
    "def b_crit_on_diffusion(a,c,D1,D2):\n",
    "    den = 2*a*(D1-D2) + c*D2\n",
    "    B0 = c*D1*D2/(den**2)\n",
    "    B1 = (2*a**3*c*D1**2-2*a**3*c*D1*D2+a**2*c**2*D1*D2-2*a**2*D1*D2+2*a**2*D2**2-3*a*c*D2**2+c**2*D2**2)/(den**2)\n",
    "    B2 = -(a*(2*a-c)*(a*(D1-D2)+c*D2)*(2*a**2*(D1-D2)+a*c*D2-D2))/(den**2)\n",
    "    B = B2/B1\n",
    "    if (B>0):\n",
    "        if den>0:\n",
    "            if -a+np.sqrt(B)>0:\n",
    "                return  \n",
    "\n",
    "    return c*a-a**2    \n"
   ]
  },
  {
   "cell_type": "code",
   "execution_count": 9,
   "metadata": {},
   "outputs": [],
   "source": [
    "def plot_neutral(a,c,D1,D2,q):\n",
    "    den = 2*a*(D1-D2) + c*D2\n",
    "    B0 = c*D1*D2/(den**2)\n",
    "    B1 = (2*a**3*c*D1**2-2*a**3*c*D1*D2+a**2*c**2*D1*D2-2*a**2*D1*D2+2*a**2*D2**2-3*a*c*D2**2+c**2*D2**2)/(den**2)\n",
    "    B2 = -( a*(2*a-c)*(a*(D1-D2)+c*D2)*(2*a**2*(D1-D2)+a*c*D2-D2) )/(den**2)\n",
    "    L = den*q**2+a\n",
    "    func = B0*L+B1+B2/L\n",
    "    return func\n",
    "def give_minimal_b(a,c,D1,D2):\n",
    "    q = np.linspace(0,60,3000)\n",
    "    b_vectorized = np.vectorize(neutral_curve_det)\n",
    "    b_q = b_vectorized(D1,D2,c,a,q)\n",
    "    b_max = c*a-a**2+0*b_q\n",
    "    # q_min = find_minimum(a,c\n",
    "    i = np.argmin(b_q)\n",
    "    q_true_min = q[i]\n",
    "    b_min = b_q[i]\n",
    "    return b_min"
   ]
  },
  {
   "cell_type": "code",
   "execution_count": null,
   "metadata": {},
   "outputs": [
    {
     "data": {
      "text/plain": [
       "Text(0, 0.5, 'b_crit')"
      ]
     },
     "execution_count": 48,
     "metadata": {},
     "output_type": "execute_result"
    },
    {
     "data": {
      "image/png": "[encoded data removed]",
      "text/plain": [
       "<Figure size 720x432 with 1 Axes>"
      ]
     },
     "metadata": {
      "needs_background": "light"
     },
     "output_type": "display_data"
    }
   ],
   "source": [
    "## Here only the same diffusion \n",
    "import numpy as np\n",
    "import matplotlib.pyplot as plt\n",
    "D1 = 1\n",
    "D2 = 7\n",
    "D=1\n",
    "a = 15\n",
    "def b_crit_interactions(c,a):\n",
    "    condition = a*(1-a*c)*(2*a-c)\n",
    "    if condition >= 0:\n",
    "        if np.sqrt(condition)-a >= 0:\n",
    "            return 1+a**2 + (2*np.sqrt(condition)-3*a)/c\n",
    "    return c*a-a**2    \n",
    "def b_crit_no_interactions(c,a):\n",
    "    return (1+a)**2\n",
    "b_crit_vectorized = np.vectorize(b_crit_interactions)\n",
    "# Define the range for x and y\n",
    "c = np.linspace(a, 50, 400)\n",
    "b_no_interactions = c*0+(1+a)**2\n",
    "b_interactions = b_crit_vectorized(c,a)\n",
    "\n",
    "b_max = c*a-a**2\n",
    "\n",
    "# Create the plot\n",
    "plt.figure(figsize=(10, 6))\n",
    "plt.plot(c, b_no_interactions, label='Interactions off')\n",
    "plt.plot(c, b_max, label='Max b')\n",
    "plt.plot(c,b_interactions, label= \"interactions\")\n",
    "plt.legend()\n",
    "plt.title('')\n",
    "plt.xlabel(\"c\")\n",
    "plt.ylabel(\"b_crit\")\n",
    "\n",
    "\n"
   ]
  },
  {
   "cell_type": "code",
   "execution_count": 38,
   "metadata": {},
   "outputs": [
    {
     "name": "stdout",
     "output_type": "stream",
     "text": [
      "Plot saved as plots/interaction_comparison/plot_20240808_121420.png\n"
     ]
    },
    {
     "data": {
      "image/png": "[encoded data removed]",
      "text/plain": [
       "<Figure size 720x432 with 1 Axes>"
      ]
     },
     "metadata": {
      "needs_background": "light"
     },
     "output_type": "display_data"
    }
   ],
   "source": [
    "## Here only the same diffusion \n",
    "import numpy as np\n",
    "import matplotlib.pyplot as plt\n",
    "import datetime\n",
    "import os\n",
    "D1 = 1\n",
    "D2 = 100\n",
    "# D=1\n",
    "a = 1\n",
    " \n",
    "def b_crit_no_interactions(c,a):\n",
    "    return (1+a)**2\n",
    "b_crit_vectorized = np.vectorize(give_minimal_b)\n",
    "# Define the range for x and y\n",
    "c = np.linspace(a+0.001, 100000, 400)\n",
    "b_no_interactions = c*0+(1+a)**2\n",
    "b_interactions = b_crit_vectorized(a,c,D1,D2)\n",
    "b_max = c*a-a**2\n",
    "\n",
    "# Create the plot\n",
    "plt.figure(figsize=(10, 6))\n",
    "plt.plot(c, b_no_interactions, label='Interactions off')\n",
    "plt.plot(c, b_max, label='Max b')\n",
    "plt.plot(c,b_interactions, label= \"interactions\")\n",
    "\n",
    "plt.legend()\n",
    "plt.title('Minimum of neutral curve for det')\n",
    "plt.suptitle(f\"Du={D1},Dv={D2},a={a}\")\n",
    "plt.xlabel(\"c\")\n",
    "plt.ylabel(\"b_crit\")\n",
    "plt.ylim(0,5)\n",
    "folder=\"plots/interaction_comparison\"\n",
    "if not os.path.exists(folder):\n",
    "    os.makedirs(folder)\n",
    "current_time = datetime.datetime.now().strftime(\"%Y%m%d_%H%M%S\")\n",
    "filename = os.path.join(folder, f\"plot_{current_time}.png\")\n",
    "# plt.savefig(filename)\n",
    "print(f\"Plot saved as {filename}\")\n",
    "\n"
   ]
  },
  {
   "cell_type": "code",
   "execution_count": null,
   "metadata": {},
   "outputs": [],
   "source": []
  }
 ],
 "metadata": {
  "kernelspec": {
   "display_name": "Python 3 (ipykernel)",
   "language": "python",
   "name": "python3"
  },
  "language_info": {
   "codemirror_mode": {
    "name": "ipython",
    "version": 3
   },
   "file_extension": ".py",
   "mimetype": "text/x-python",
   "name": "python",
   "nbconvert_exporter": "python",
   "pygments_lexer": "ipython3",
   "version": "3.10.12"
  }
 },
 "nbformat": 4,
 "nbformat_minor": 2
}
